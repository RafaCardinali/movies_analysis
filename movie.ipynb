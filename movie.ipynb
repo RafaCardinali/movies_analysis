{
 "cells": [
  {
   "cell_type": "code",
   "execution_count": 5,
   "metadata": {},
   "outputs": [],
   "source": [
    "import requests\n",
    "import pandas as pd\n",
    "import time\n",
    "from dotenv import load_dotenv\n",
    "import os\n",
    "\n",
    "load_dotenv()\n",
    "\n",
    "api_key = os.getenv('TMDB_API_KEY')\n",
    "\n",
    "directors = ['Justine Triet', 'Martin Scorsese', 'Christopher Nolan', 'Yorgos Lanthimos', 'Jonathan Glazer', \"Daniel Kwan\", \"Daniel Scheinert\", \"Steven Spielberg\", \"Todd Field\", \"Martin McDonagh\", \"Ruben Östlund\", \"Jane Campion\", \"Paul Thomas Anderson\", \"Ryusuke Hamaguchi\", \"Kenneth Branagh\", \"Chloé Zhao\", \"David Fincher\", \"Emerald Fennell\", \"Thomas Vinterberg\", \"Lee Isaac Chung\", \"Bong Joon Ho\",\"Quentin Tarantino\", \"Martin Scorsese\", \"Sam Mendes\", \"Todd Phillips\", \"Alfonso Cuarón\", \"Yorgos Lanthimos\", \"Spike Lee\", \"Paweł Pawlikowski\", \"Adam McKay\", \"Guillermo del Toro\", \"Jordan Peele\", \"Christopher Nolan\", \"Greta Gerwig\", \"Paul Thomas Anderson\", \"Damien Chazelle\", \"Barry Jenkins\", \"Mel Gibson\", \"Denis Villeneuve\", \"Kenneth Lonergan\", \"Tom McCarthy\", \"Adam McKay\", \"George Miller\", \"Lenny Abrahamson\", \"Richard Linklater\", \"Bennett Miller\", \"Wes Anderson\", \"Morten Tyldum\", \"Alfonso Cuarón\", \"David O. Russell\", \"Steve McQueen\", \"Martin Scorsese\", \"Alexander Payne\", \"Ang Lee\", \"Steven Spielberg\", \"David O. Russell\", \"Benh Zeitlin\", \"Michael Haneke\", \"Michel Hazanavicius\", \"Martin Scorsese\", \"Woody Allen\", \"Terrence Malick\", \"Alexander Payne\", \"Tom Hooper\", \"David Fincher\", \"Ethan Coen\", \"Joel Coen\", \"Darren Aronofsky\", \"David O. Russell\", \"Kathryn Bigelow\", \"James Cameron\", \"Quentin Tarantino\", \"Jason Reitman\", \"Lee Daniels\", \"Danny Boyle\", \"Gus Van Sant\", \"David Fincher\", \"Ron Howard\", \"Stephen Daldry\", \"Ethan Coen\", \"Joel Coen\", \"Jason Reitman\", \"Tony Gilroy\", \"Julian Schnabel\", \"Paul Thomas Anderson\", \"Martin Scorsese\", \"Clint Eastwood\", \"Stephen Frears\", \"Paul Greengrass\", \"Alejandro González Iñárritu\", \"Ang Lee\", \"Steven Spielberg\", \"George Clooney\", \"Paul Haggis\", \"Bennett Miller\", \"Clint Eastwood\", \"Martin Scorsese\", \"Mike Leigh\", \"Alexander Payne\", \"Taylor Hackford\", \"Peter Jackson\", \"Sofia Coppola\", \"Clint Eastwood\", \"Peter Weir\", \"Fernando Meirelles\", \"Roman Polanski\", \"Martin Scorsese\", \"Rob Marshall\", \"Pedro Almodóvar\", \"Stephen Daldry\", \"Ron Howard\", \"Ridley Scott\", \"Robert Altman\", \"David Lynch\", \"Ang Lee\", \"Steven Soderbergh\", \"Ridley Scott\", \"Steven Soderbergh\", \"Ang Lee\", \"Stephen Daldry\", \"Sam Mendes\", \"M. Night Shyamalan\", \"Spike Jonze\", \"Michael Mann\", \"Lasse Hallström\", \"Steven Spielberg\", \"John Madden\", \"Roberto Benigni\", \"Terrence Malick\", \"Peter Weir\", \"James Cameron\", \"Gus Van Sant\", \"Curtis Hanson\", \"Peter Cattaneo\", \"Atom Egoyan\", \"Anthony Minghella\", \"Joel Coen\", \"Mike Leigh\", \"Scott Hicks\", \"Milos Forman\", \"Mel Gibson\", \"Tim Robbins\", \"Mike Figgis\", \"Chris Noonan\", \"Michael Radford\", \"Robert Zemeckis\", \"Quentin Tarantino\", \"Robert Redford\", \"Woody Allen\", \"Krzysztof Kieslowski\", \"Steven Spielberg\", \"Robert Altman\", \"James Ivory\", \"Jim Sheridan\", \"Jonathan Demme\", \"Oliver Stone\", \"John Singleton\", \"Ridley Scott\", \"Barry Levinson\", \"Kevin Costner\", \"Martin Scorsese\", \"Francis Ford Coppola\", \"Stephen Frears\", \"Barbet Schroeder\", \"Oliver Stone\", \"Woody Allen\", \"Kenneth Branagh\", \"Jim Sheridan\", \"Peter Weir\", \"Barry Levinson\", \"Bernardo Bertolucci\", \"Norman Jewison\", \"Adrian Lyne\", \"Lasse Hallström\", \"John Boorman\", \"Oliver Stone\", \"David Lynch\", \"Woody Allen\", \"Roland Joffé\", \"James Ivory\", \"Sydney Pollack\", \"John Huston\", \"Akira Kurosawa\", \"Hector Babenco\", \"Milos Forman\", \"David Lean\", \"William Wyler\", \"Sidney Lumet\", \"Robert Aldrich\", \"Fred Zinnemann\", \"Cecil B. DeMille\", \"John Ford\", \"William Wyler\", \"George Stevens\", \"Elia Kazan\", \"Joseph L. Mankiewicz\", \"William Wyler\", \"Frank Capra\", \"Michael Curtiz\", \"Norman Taurog\", \"Leo McCarey\", \"W.S. Van Dyke\", \"Frank Capra\", \"George Cukor\", \"Frank Borzage\", \"King Vidor\", \"Josef von Sternberg\", \"Norman Taurog\", \"Ernst Lubitsch\", \"Frank Lloyd\", \"Harry Beaumont\", \"Irving Cummings\"]\n",
    "\n",
    "unique_directors = list(set(directors))\n",
    "unique_directors.sort()"
   ]
  },
  {
   "cell_type": "code",
   "execution_count": 6,
   "metadata": {},
   "outputs": [
    {
     "ename": "KeyboardInterrupt",
     "evalue": "",
     "output_type": "error",
     "traceback": [
      "\u001b[1;31m---------------------------------------------------------------------------\u001b[0m",
      "\u001b[1;31mKeyboardInterrupt\u001b[0m                         Traceback (most recent call last)",
      "Cell \u001b[1;32mIn[6], line 45\u001b[0m\n\u001b[0;32m     42\u001b[0m     \u001b[38;5;28;01melse\u001b[39;00m:\n\u001b[0;32m     43\u001b[0m         \u001b[38;5;28mprint\u001b[39m(\u001b[38;5;124mf\u001b[39m\u001b[38;5;124m'\u001b[39m\u001b[38;5;124mErro ao buscar o diretor \u001b[39m\u001b[38;5;132;01m{\u001b[39;00mdirector\u001b[38;5;132;01m}\u001b[39;00m\u001b[38;5;124m'\u001b[39m)\n\u001b[1;32m---> 45\u001b[0m     time\u001b[38;5;241m.\u001b[39msleep(\u001b[38;5;241m1\u001b[39m)\n\u001b[0;32m     47\u001b[0m df_all_movies \u001b[38;5;241m=\u001b[39m pd\u001b[38;5;241m.\u001b[39mDataFrame(all_movies)\n\u001b[0;32m     49\u001b[0m df_all_movies \u001b[38;5;241m=\u001b[39m df_all_movies\u001b[38;5;241m.\u001b[39mdrop_duplicates(subset\u001b[38;5;241m=\u001b[39m[\u001b[38;5;124m'\u001b[39m\u001b[38;5;124mMovie Title\u001b[39m\u001b[38;5;124m'\u001b[39m])\n",
      "\u001b[1;31mKeyboardInterrupt\u001b[0m: "
     ]
    }
   ],
   "source": [
    "all_movies = []\n",
    "\n",
    "for director in unique_directors:\n",
    "    response = requests.get(f\"https://api.themoviedb.org/3/search/person?api_key={api_key}&query={director}\")\n",
    "    if response.status_code == 200:\n",
    "        data = response.json()\n",
    "        if data['results']:\n",
    "            director_id = data['results'][0]['id']\n",
    "\n",
    "            url = f\"https://api.themoviedb.org/3/person/{director_id}/movie_credits?api_key={api_key}\"\n",
    "            response = requests.get(url)\n",
    "            if response.status_code == 200:\n",
    "                data = response.json()\n",
    "                directed_movies = [movie for movie in data['crew'] if movie['job'] == 'Director']\n",
    "\n",
    "                for movie in directed_movies:\n",
    "                    movie_id = movie['id']\n",
    "                    movie_title = movie['title']\n",
    "                    movie_release_date = movie['release_date']\n",
    "                    # Obtém detalhes adicionais do filme\n",
    "                    movie_details_url = f\"https://api.themoviedb.org/3/movie/{movie_id}?api_key={api_key}\"\n",
    "                    details_response = requests.get(movie_details_url)\n",
    "                    if details_response.status_code == 200:\n",
    "                        details_data = details_response.json()\n",
    "                        duration = details_data['runtime']\n",
    "                        genres = [genre['name'] for genre in details_data['genres']]\n",
    "                        genre_names = ', '.join(genres)\n",
    "                        release_year = details_data['release_date'][:4]\n",
    "\n",
    "                        # Filtra para incluir apenas filmes com duração maior que 50 minutos\n",
    "                        if duration and duration > 50:\n",
    "                            all_movies.append({\n",
    "                                'Movie Title': movie_title,\n",
    "                                'Director': director,\n",
    "                                'Genre': genre_names,\n",
    "                                'Release Year': release_year\n",
    "                            })\n",
    "            else:\n",
    "                print(f'Erro ao buscar créditos do diretor {director}')\n",
    "        else:\n",
    "            print(f'Nenhum resultado encontrado para o diretor {director}')\n",
    "    else:\n",
    "        print(f'Erro ao buscar o diretor {director}')\n",
    "    \n",
    "    time.sleep(1)\n",
    "\n",
    "df_all_movies = pd.DataFrame(all_movies)\n",
    "\n",
    "df_all_movies = df_all_movies.drop_duplicates(subset=['Movie Title'])\n",
    "\n",
    "df_sortered = df_all_movies.sort_values(by=['Director', 'Release Year'])"
   ]
  }
 ],
 "metadata": {
  "kernelspec": {
   "display_name": "base",
   "language": "python",
   "name": "python3"
  },
  "language_info": {
   "codemirror_mode": {
    "name": "ipython",
    "version": 3
   },
   "file_extension": ".py",
   "mimetype": "text/x-python",
   "name": "python",
   "nbconvert_exporter": "python",
   "pygments_lexer": "ipython3",
   "version": "3.12.4"
  }
 },
 "nbformat": 4,
 "nbformat_minor": 2
}
